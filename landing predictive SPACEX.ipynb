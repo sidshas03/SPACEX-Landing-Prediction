{
 "cells": [
  {
   "cell_type": "markdown",
   "id": "1d0231ad",
   "metadata": {
    "papermill": {
     "duration": 0.050164,
     "end_time": "2021-11-20T23:01:19.902818",
     "exception": false,
     "start_time": "2021-11-20T23:01:19.852654",
     "status": "completed"
    },
    "tags": []
   },
   "source": [
    "<center>\n",
    "    <img src=\"https://gitlab.com/ibm/skills-network/courses/placeholder101/-/raw/master/labs/module%201/images/IDSNlogo.png\" width=\"300\" alt=\"cognitiveclass.ai logo\"  />\n",
    "</center>\n"
   ]
  },
  {
   "cell_type": "markdown",
   "id": "fad0bc4b",
   "metadata": {
    "papermill": {
     "duration": 0.051382,
     "end_time": "2021-11-20T23:01:20.003703",
     "exception": false,
     "start_time": "2021-11-20T23:01:19.952321",
     "status": "completed"
    },
    "tags": []
   },
   "source": [
    "# **Space X  Falcon 9 First Stage Landing Prediction**\n"
   ]
  },
  {
   "cell_type": "markdown",
   "id": "9f068686",
   "metadata": {
    "papermill": {
     "duration": 0.048692,
     "end_time": "2021-11-20T23:01:20.101327",
     "exception": false,
     "start_time": "2021-11-20T23:01:20.052635",
     "status": "completed"
    },
    "tags": []
   },
   "source": [
    "## Assignment:  Machine Learning Prediction\n"
   ]
  },
  {
   "cell_type": "markdown",
   "id": "4ebbf113",
   "metadata": {
    "papermill": {
     "duration": 0.049959,
     "end_time": "2021-11-20T23:01:20.201023",
     "exception": false,
     "start_time": "2021-11-20T23:01:20.151064",
     "status": "completed"
    },
    "tags": []
   },
   "source": [
    "Estimated time needed: **60** minutes\n"
   ]
  },
  {
   "cell_type": "markdown",
   "id": "0c50ca5e",
   "metadata": {
    "papermill": {
     "duration": 0.048254,
     "end_time": "2021-11-20T23:01:20.298880",
     "exception": false,
     "start_time": "2021-11-20T23:01:20.250626",
     "status": "completed"
    },
    "tags": []
   },
   "source": [
    "Space X advertises Falcon 9 rocket launches on its website with a cost of 62 million dollars; other providers cost upward of 165 million dollars each, much of the savings is because Space X can reuse the first stage. Therefore if we can determine if the first stage will land, we can determine the cost of a launch. This information can be used if an alternate company wants to bid against space X for a rocket launch.   In this lab, you will create a machine learning pipeline  to predict if the first stage will land given the data from the preceding labs.\n"
   ]
  },
  {
   "cell_type": "markdown",
   "id": "e4dc29bd",
   "metadata": {
    "papermill": {
     "duration": 0.109368,
     "end_time": "2021-11-20T23:01:20.457407",
     "exception": false,
     "start_time": "2021-11-20T23:01:20.348039",
     "status": "completed"
    },
    "tags": []
   },
   "source": [
    "![](https://cf-courses-data.s3.us.cloud-object-storage.appdomain.cloud/IBMDeveloperSkillsNetwork-DS0701EN-SkillsNetwork/api/Images/landing\\_1.gif)\n"
   ]
  },
  {
   "cell_type": "markdown",
   "id": "812f2d48",
   "metadata": {
    "papermill": {
     "duration": 0.048437,
     "end_time": "2021-11-20T23:01:20.554700",
     "exception": false,
     "start_time": "2021-11-20T23:01:20.506263",
     "status": "completed"
    },
    "tags": []
   },
   "source": [
    "Several examples of an unsuccessful landing are shown here:\n"
   ]
  },
  {
   "cell_type": "markdown",
   "id": "6bf7960f",
   "metadata": {
    "papermill": {
     "duration": 0.050167,
     "end_time": "2021-11-20T23:01:20.654527",
     "exception": false,
     "start_time": "2021-11-20T23:01:20.604360",
     "status": "completed"
    },
    "tags": []
   },
   "source": [
    "![](https://cf-courses-data.s3.us.cloud-object-storage.appdomain.cloud/IBMDeveloperSkillsNetwork-DS0701EN-SkillsNetwork/api/Images/crash.gif)\n"
   ]
  },
  {
   "cell_type": "markdown",
   "id": "06422c26",
   "metadata": {
    "papermill": {
     "duration": 0.050137,
     "end_time": "2021-11-20T23:01:20.753983",
     "exception": false,
     "start_time": "2021-11-20T23:01:20.703846",
     "status": "completed"
    },
    "tags": []
   },
   "source": [
    "Most unsuccessful landings are planned. Space X performs a controlled landing in the oceans.\n"
   ]
  },
  {
   "cell_type": "markdown",
   "id": "4ed9e40f",
   "metadata": {
    "papermill": {
     "duration": 0.049018,
     "end_time": "2021-11-20T23:01:20.852613",
     "exception": false,
     "start_time": "2021-11-20T23:01:20.803595",
     "status": "completed"
    },
    "tags": []
   },
   "source": [
    "## Objectives\n"
   ]
  },
  {
   "cell_type": "markdown",
   "id": "9199fe41",
   "metadata": {
    "papermill": {
     "duration": 0.04975,
     "end_time": "2021-11-20T23:01:20.951113",
     "exception": false,
     "start_time": "2021-11-20T23:01:20.901363",
     "status": "completed"
    },
    "tags": []
   },
   "source": [
    "* Perform exploratory  Data Analysis and determine Training Labels\n",
    "*   Create a column for the class\n",
    "*   Standardize the data\n",
    "*   Split into training data and test data\n",
    "* Find best Hyperparameter for SVM, Classification Trees and Logistic Regression\n",
    "*   Find the method performs best using test data\n"
   ]
  },
  {
   "cell_type": "markdown",
   "id": "3cb04756",
   "metadata": {
    "papermill": {
     "duration": 0.050312,
     "end_time": "2021-11-20T23:01:21.051634",
     "exception": false,
     "start_time": "2021-11-20T23:01:21.001322",
     "status": "completed"
    },
    "tags": []
   },
   "source": []
  },
  {
   "cell_type": "markdown",
   "id": "c94ea1fa",
   "metadata": {
    "papermill": {
     "duration": 0.048711,
     "end_time": "2021-11-20T23:01:21.149419",
     "exception": false,
     "start_time": "2021-11-20T23:01:21.100708",
     "status": "completed"
    },
    "tags": []
   },
   "source": [
    "***\n"
   ]
  },
  {
   "cell_type": "markdown",
   "id": "96c89f5f",
   "metadata": {
    "papermill": {
     "duration": 0.049004,
     "end_time": "2021-11-20T23:01:21.249577",
     "exception": false,
     "start_time": "2021-11-20T23:01:21.200573",
     "status": "completed"
    },
    "tags": []
   },
   "source": [
    "## Import Libraries and Define Auxiliary Functions\n"
   ]
  },
  {
   "cell_type": "markdown",
   "id": "ea6b88d3",
   "metadata": {
    "papermill": {
     "duration": 0.048809,
     "end_time": "2021-11-20T23:01:21.347288",
     "exception": false,
     "start_time": "2021-11-20T23:01:21.298479",
     "status": "completed"
    },
    "tags": []
   },
   "source": [
    "We will import the following libraries for the lab\n"
   ]
  },
  {
   "cell_type": "code",
   "execution_count": 1,
   "id": "9fce8b40",
   "metadata": {
    "execution": {
     "iopub.execute_input": "2021-11-20T23:01:21.454771Z",
     "iopub.status.busy": "2021-11-20T23:01:21.454087Z",
     "iopub.status.idle": "2021-11-20T23:01:22.909353Z",
     "shell.execute_reply": "2021-11-20T23:01:22.908365Z",
     "shell.execute_reply.started": "2021-11-20T22:57:45.017081Z"
    },
    "papermill": {
     "duration": 1.513188,
     "end_time": "2021-11-20T23:01:22.909618",
     "exception": false,
     "start_time": "2021-11-20T23:01:21.396430",
     "status": "completed"
    },
    "tags": []
   },
   "outputs": [],
   "source": [
    "import itertools\n",
    "import pandas as pd\n",
    "import numpy as np\n",
    "import matplotlib.pyplot as plt\n",
    "import seaborn as sns\n",
    "from sklearn import preprocessing\n",
    "from sklearn.model_selection import train_test_split\n",
    "from sklearn.model_selection import GridSearchCV\n",
    "from sklearn.linear_model import LogisticRegression\n",
    "from sklearn.svm import SVC\n",
    "from sklearn.tree import DecisionTreeClassifier\n",
    "from sklearn.neighbors import KNeighborsClassifier\n",
    "from sklearn.metrics import classification_report, confusion_matrix, f1_score, precision_score, recall_score, roc_auc_score"
   ]
  },
  {
   "cell_type": "markdown",
   "id": "e44141aa",
   "metadata": {
    "papermill": {
     "duration": 0.052772,
     "end_time": "2021-11-20T23:01:23.018819",
     "exception": false,
     "start_time": "2021-11-20T23:01:22.966047",
     "status": "completed"
    },
    "tags": []
   },
   "source": [
    "This function is to plot the confusion matrix.\n"
   ]
  },
  {
   "cell_type": "code",
   "execution_count": 2,
   "id": "36674d2a",
   "metadata": {
    "execution": {
     "iopub.execute_input": "2021-11-20T23:01:23.129918Z",
     "iopub.status.busy": "2021-11-20T23:01:23.128837Z",
     "iopub.status.idle": "2021-11-20T23:01:23.131528Z",
     "shell.execute_reply": "2021-11-20T23:01:23.130951Z",
     "shell.execute_reply.started": "2021-11-20T22:57:45.027348Z"
    },
    "papermill": {
     "duration": 0.063491,
     "end_time": "2021-11-20T23:01:23.131679",
     "exception": false,
     "start_time": "2021-11-20T23:01:23.068188",
     "status": "completed"
    },
    "tags": []
   },
   "outputs": [],
   "source": [
    "def plot_confusion_matrix(cm, classes,\n",
    "                          normalize=False,\n",
    "                          title='Confusion matrix',\n",
    "                          cmap=plt.cm.Blues):\n",
    "    \"\"\"\n",
    "    This function prints and plots the confusion matrix.\n",
    "    Normalization can be applied by setting `normalize=True`.\n",
    "    \"\"\"\n",
    "    if normalize:\n",
    "        cm = cm.astype('float') / cm.sum(axis=1)[:, np.newaxis]\n",
    "        print(\"Normalized confusion matrix\")\n",
    "    else:\n",
    "        print('Confusion matrix, without normalization')\n",
    "\n",
    "    print(cm)\n",
    "\n",
    "    plt.imshow(cm, interpolation='nearest', cmap=cmap)\n",
    "    plt.title(title)\n",
    "    plt.colorbar()\n",
    "    tick_marks = np.arange(len(classes))\n",
    "    plt.xticks(tick_marks, classes, rotation=45)\n",
    "    plt.yticks(tick_marks, classes)\n",
    "\n",
    "    fmt = '.2f' if normalize else 'd'\n",
    "    thresh = cm.max() / 2.\n",
    "    for i, j in itertools.product(range(cm.shape[0]), range(cm.shape[1])):\n",
    "        plt.text(j, i, format(cm[i, j], fmt),\n",
    "                 horizontalalignment=\"center\",\n",
    "                 color=\"white\" if cm[i, j] > thresh else \"black\")\n",
    "\n",
    "    plt.tight_layout()\n",
    "    plt.ylabel('True label')\n",
    "    plt.xlabel('Predicted label')"
   ]
  },
  {
   "cell_type": "markdown",
   "id": "4c11b62f",
   "metadata": {
    "papermill": {
     "duration": 0.050511,
     "end_time": "2021-11-20T23:01:23.231435",
     "exception": false,
     "start_time": "2021-11-20T23:01:23.180924",
     "status": "completed"
    },
    "tags": []
   },
   "source": [
    "## Load the dataframe\n"
   ]
  },
  {
   "cell_type": "markdown",
   "id": "6f63d935",
   "metadata": {
    "papermill": {
     "duration": 0.0494,
     "end_time": "2021-11-20T23:01:23.330229",
     "exception": false,
     "start_time": "2021-11-20T23:01:23.280829",
     "status": "completed"
    },
    "tags": []
   },
   "source": [
    "Load the data\n"
   ]
  },
  {
   "cell_type": "code",
   "execution_count": 3,
   "id": "44b91fbb",
   "metadata": {
    "execution": {
     "iopub.execute_input": "2021-11-20T23:01:23.432113Z",
     "iopub.status.busy": "2021-11-20T23:01:23.431413Z",
     "iopub.status.idle": "2021-11-20T23:01:24.174172Z",
     "shell.execute_reply": "2021-11-20T23:01:24.174739Z",
     "shell.execute_reply.started": "2021-11-20T22:57:45.045238Z"
    },
    "papermill": {
     "duration": 0.795588,
     "end_time": "2021-11-20T23:01:24.174917",
     "exception": false,
     "start_time": "2021-11-20T23:01:23.379329",
     "status": "completed"
    },
    "tags": []
   },
   "outputs": [
    {
     "data": {
      "text/html": [
       "<div>\n",
       "<style scoped>\n",
       "    .dataframe tbody tr th:only-of-type {\n",
       "        vertical-align: middle;\n",
       "    }\n",
       "\n",
       "    .dataframe tbody tr th {\n",
       "        vertical-align: top;\n",
       "    }\n",
       "\n",
       "    .dataframe thead th {\n",
       "        text-align: right;\n",
       "    }\n",
       "</style>\n",
       "<table border=\"1\" class=\"dataframe\">\n",
       "  <thead>\n",
       "    <tr style=\"text-align: right;\">\n",
       "      <th></th>\n",
       "      <th>FlightNumber</th>\n",
       "      <th>Date</th>\n",
       "      <th>BoosterVersion</th>\n",
       "      <th>PayloadMass</th>\n",
       "      <th>Orbit</th>\n",
       "      <th>LaunchSite</th>\n",
       "      <th>Outcome</th>\n",
       "      <th>Flights</th>\n",
       "      <th>GridFins</th>\n",
       "      <th>Reused</th>\n",
       "      <th>Legs</th>\n",
       "      <th>LandingPad</th>\n",
       "      <th>Block</th>\n",
       "      <th>ReusedCount</th>\n",
       "      <th>Serial</th>\n",
       "      <th>Longitude</th>\n",
       "      <th>Latitude</th>\n",
       "      <th>Class</th>\n",
       "    </tr>\n",
       "  </thead>\n",
       "  <tbody>\n",
       "    <tr>\n",
       "      <th>0</th>\n",
       "      <td>1</td>\n",
       "      <td>2010-06-04</td>\n",
       "      <td>Falcon 9</td>\n",
       "      <td>6104.959412</td>\n",
       "      <td>LEO</td>\n",
       "      <td>CCAFS SLC 40</td>\n",
       "      <td>None None</td>\n",
       "      <td>1</td>\n",
       "      <td>False</td>\n",
       "      <td>False</td>\n",
       "      <td>False</td>\n",
       "      <td>NaN</td>\n",
       "      <td>1.0</td>\n",
       "      <td>0</td>\n",
       "      <td>B0003</td>\n",
       "      <td>-80.577366</td>\n",
       "      <td>28.561857</td>\n",
       "      <td>0</td>\n",
       "    </tr>\n",
       "    <tr>\n",
       "      <th>1</th>\n",
       "      <td>2</td>\n",
       "      <td>2012-05-22</td>\n",
       "      <td>Falcon 9</td>\n",
       "      <td>525.000000</td>\n",
       "      <td>LEO</td>\n",
       "      <td>CCAFS SLC 40</td>\n",
       "      <td>None None</td>\n",
       "      <td>1</td>\n",
       "      <td>False</td>\n",
       "      <td>False</td>\n",
       "      <td>False</td>\n",
       "      <td>NaN</td>\n",
       "      <td>1.0</td>\n",
       "      <td>0</td>\n",
       "      <td>B0005</td>\n",
       "      <td>-80.577366</td>\n",
       "      <td>28.561857</td>\n",
       "      <td>0</td>\n",
       "    </tr>\n",
       "    <tr>\n",
       "      <th>2</th>\n",
       "      <td>3</td>\n",
       "      <td>2013-03-01</td>\n",
       "      <td>Falcon 9</td>\n",
       "      <td>677.000000</td>\n",
       "      <td>ISS</td>\n",
       "      <td>CCAFS SLC 40</td>\n",
       "      <td>None None</td>\n",
       "      <td>1</td>\n",
       "      <td>False</td>\n",
       "      <td>False</td>\n",
       "      <td>False</td>\n",
       "      <td>NaN</td>\n",
       "      <td>1.0</td>\n",
       "      <td>0</td>\n",
       "      <td>B0007</td>\n",
       "      <td>-80.577366</td>\n",
       "      <td>28.561857</td>\n",
       "      <td>0</td>\n",
       "    </tr>\n",
       "    <tr>\n",
       "      <th>3</th>\n",
       "      <td>4</td>\n",
       "      <td>2013-09-29</td>\n",
       "      <td>Falcon 9</td>\n",
       "      <td>500.000000</td>\n",
       "      <td>PO</td>\n",
       "      <td>VAFB SLC 4E</td>\n",
       "      <td>False Ocean</td>\n",
       "      <td>1</td>\n",
       "      <td>False</td>\n",
       "      <td>False</td>\n",
       "      <td>False</td>\n",
       "      <td>NaN</td>\n",
       "      <td>1.0</td>\n",
       "      <td>0</td>\n",
       "      <td>B1003</td>\n",
       "      <td>-120.610829</td>\n",
       "      <td>34.632093</td>\n",
       "      <td>0</td>\n",
       "    </tr>\n",
       "    <tr>\n",
       "      <th>4</th>\n",
       "      <td>5</td>\n",
       "      <td>2013-12-03</td>\n",
       "      <td>Falcon 9</td>\n",
       "      <td>3170.000000</td>\n",
       "      <td>GTO</td>\n",
       "      <td>CCAFS SLC 40</td>\n",
       "      <td>None None</td>\n",
       "      <td>1</td>\n",
       "      <td>False</td>\n",
       "      <td>False</td>\n",
       "      <td>False</td>\n",
       "      <td>NaN</td>\n",
       "      <td>1.0</td>\n",
       "      <td>0</td>\n",
       "      <td>B1004</td>\n",
       "      <td>-80.577366</td>\n",
       "      <td>28.561857</td>\n",
       "      <td>0</td>\n",
       "    </tr>\n",
       "  </tbody>\n",
       "</table>\n",
       "</div>"
      ],
      "text/plain": [
       "   FlightNumber        Date BoosterVersion  PayloadMass Orbit    LaunchSite  \\\n",
       "0             1  2010-06-04       Falcon 9  6104.959412   LEO  CCAFS SLC 40   \n",
       "1             2  2012-05-22       Falcon 9   525.000000   LEO  CCAFS SLC 40   \n",
       "2             3  2013-03-01       Falcon 9   677.000000   ISS  CCAFS SLC 40   \n",
       "3             4  2013-09-29       Falcon 9   500.000000    PO   VAFB SLC 4E   \n",
       "4             5  2013-12-03       Falcon 9  3170.000000   GTO  CCAFS SLC 40   \n",
       "\n",
       "       Outcome  Flights  GridFins  Reused   Legs LandingPad  Block  \\\n",
       "0    None None        1     False   False  False        NaN    1.0   \n",
       "1    None None        1     False   False  False        NaN    1.0   \n",
       "2    None None        1     False   False  False        NaN    1.0   \n",
       "3  False Ocean        1     False   False  False        NaN    1.0   \n",
       "4    None None        1     False   False  False        NaN    1.0   \n",
       "\n",
       "   ReusedCount Serial   Longitude   Latitude  Class  \n",
       "0            0  B0003  -80.577366  28.561857      0  \n",
       "1            0  B0005  -80.577366  28.561857      0  \n",
       "2            0  B0007  -80.577366  28.561857      0  \n",
       "3            0  B1003 -120.610829  34.632093      0  \n",
       "4            0  B1004  -80.577366  28.561857      0  "
      ]
     },
     "execution_count": 3,
     "metadata": {},
     "output_type": "execute_result"
    }
   ],
   "source": [
    "data = pd.read_csv(\"https://cf-courses-data.s3.us.cloud-object-storage.appdomain.cloud/IBM-DS0321EN-SkillsNetwork/datasets/dataset_part_2.csv\")\n",
    "data.head()"
   ]
  },
  {
   "cell_type": "code",
   "execution_count": 4,
   "id": "16852647",
   "metadata": {
    "execution": {
     "iopub.execute_input": "2021-11-20T23:01:24.281598Z",
     "iopub.status.busy": "2021-11-20T23:01:24.280886Z",
     "iopub.status.idle": "2021-11-20T23:01:25.169719Z",
     "shell.execute_reply": "2021-11-20T23:01:25.170256Z",
     "shell.execute_reply.started": "2021-11-20T22:57:45.334760Z"
    },
    "papermill": {
     "duration": 0.944671,
     "end_time": "2021-11-20T23:01:25.170435",
     "exception": false,
     "start_time": "2021-11-20T23:01:24.225764",
     "status": "completed"
    },
    "tags": []
   },
   "outputs": [
    {
     "data": {
      "text/html": [
       "<div>\n",
       "<style scoped>\n",
       "    .dataframe tbody tr th:only-of-type {\n",
       "        vertical-align: middle;\n",
       "    }\n",
       "\n",
       "    .dataframe tbody tr th {\n",
       "        vertical-align: top;\n",
       "    }\n",
       "\n",
       "    .dataframe thead th {\n",
       "        text-align: right;\n",
       "    }\n",
       "</style>\n",
       "<table border=\"1\" class=\"dataframe\">\n",
       "  <thead>\n",
       "    <tr style=\"text-align: right;\">\n",
       "      <th></th>\n",
       "      <th>FlightNumber</th>\n",
       "      <th>PayloadMass</th>\n",
       "      <th>Flights</th>\n",
       "      <th>Block</th>\n",
       "      <th>ReusedCount</th>\n",
       "      <th>Orbit_ES-L1</th>\n",
       "      <th>Orbit_GEO</th>\n",
       "      <th>Orbit_GTO</th>\n",
       "      <th>Orbit_HEO</th>\n",
       "      <th>Orbit_ISS</th>\n",
       "      <th>...</th>\n",
       "      <th>Serial_B1058</th>\n",
       "      <th>Serial_B1059</th>\n",
       "      <th>Serial_B1060</th>\n",
       "      <th>Serial_B1062</th>\n",
       "      <th>GridFins_False</th>\n",
       "      <th>GridFins_True</th>\n",
       "      <th>Reused_False</th>\n",
       "      <th>Reused_True</th>\n",
       "      <th>Legs_False</th>\n",
       "      <th>Legs_True</th>\n",
       "    </tr>\n",
       "  </thead>\n",
       "  <tbody>\n",
       "    <tr>\n",
       "      <th>0</th>\n",
       "      <td>1.0</td>\n",
       "      <td>6104.959412</td>\n",
       "      <td>1.0</td>\n",
       "      <td>1.0</td>\n",
       "      <td>0.0</td>\n",
       "      <td>0.0</td>\n",
       "      <td>0.0</td>\n",
       "      <td>0.0</td>\n",
       "      <td>0.0</td>\n",
       "      <td>0.0</td>\n",
       "      <td>...</td>\n",
       "      <td>0.0</td>\n",
       "      <td>0.0</td>\n",
       "      <td>0.0</td>\n",
       "      <td>0.0</td>\n",
       "      <td>1.0</td>\n",
       "      <td>0.0</td>\n",
       "      <td>1.0</td>\n",
       "      <td>0.0</td>\n",
       "      <td>1.0</td>\n",
       "      <td>0.0</td>\n",
       "    </tr>\n",
       "    <tr>\n",
       "      <th>1</th>\n",
       "      <td>2.0</td>\n",
       "      <td>525.000000</td>\n",
       "      <td>1.0</td>\n",
       "      <td>1.0</td>\n",
       "      <td>0.0</td>\n",
       "      <td>0.0</td>\n",
       "      <td>0.0</td>\n",
       "      <td>0.0</td>\n",
       "      <td>0.0</td>\n",
       "      <td>0.0</td>\n",
       "      <td>...</td>\n",
       "      <td>0.0</td>\n",
       "      <td>0.0</td>\n",
       "      <td>0.0</td>\n",
       "      <td>0.0</td>\n",
       "      <td>1.0</td>\n",
       "      <td>0.0</td>\n",
       "      <td>1.0</td>\n",
       "      <td>0.0</td>\n",
       "      <td>1.0</td>\n",
       "      <td>0.0</td>\n",
       "    </tr>\n",
       "    <tr>\n",
       "      <th>2</th>\n",
       "      <td>3.0</td>\n",
       "      <td>677.000000</td>\n",
       "      <td>1.0</td>\n",
       "      <td>1.0</td>\n",
       "      <td>0.0</td>\n",
       "      <td>0.0</td>\n",
       "      <td>0.0</td>\n",
       "      <td>0.0</td>\n",
       "      <td>0.0</td>\n",
       "      <td>1.0</td>\n",
       "      <td>...</td>\n",
       "      <td>0.0</td>\n",
       "      <td>0.0</td>\n",
       "      <td>0.0</td>\n",
       "      <td>0.0</td>\n",
       "      <td>1.0</td>\n",
       "      <td>0.0</td>\n",
       "      <td>1.0</td>\n",
       "      <td>0.0</td>\n",
       "      <td>1.0</td>\n",
       "      <td>0.0</td>\n",
       "    </tr>\n",
       "    <tr>\n",
       "      <th>3</th>\n",
       "      <td>4.0</td>\n",
       "      <td>500.000000</td>\n",
       "      <td>1.0</td>\n",
       "      <td>1.0</td>\n",
       "      <td>0.0</td>\n",
       "      <td>0.0</td>\n",
       "      <td>0.0</td>\n",
       "      <td>0.0</td>\n",
       "      <td>0.0</td>\n",
       "      <td>0.0</td>\n",
       "      <td>...</td>\n",
       "      <td>0.0</td>\n",
       "      <td>0.0</td>\n",
       "      <td>0.0</td>\n",
       "      <td>0.0</td>\n",
       "      <td>1.0</td>\n",
       "      <td>0.0</td>\n",
       "      <td>1.0</td>\n",
       "      <td>0.0</td>\n",
       "      <td>1.0</td>\n",
       "      <td>0.0</td>\n",
       "    </tr>\n",
       "    <tr>\n",
       "      <th>4</th>\n",
       "      <td>5.0</td>\n",
       "      <td>3170.000000</td>\n",
       "      <td>1.0</td>\n",
       "      <td>1.0</td>\n",
       "      <td>0.0</td>\n",
       "      <td>0.0</td>\n",
       "      <td>0.0</td>\n",
       "      <td>1.0</td>\n",
       "      <td>0.0</td>\n",
       "      <td>0.0</td>\n",
       "      <td>...</td>\n",
       "      <td>0.0</td>\n",
       "      <td>0.0</td>\n",
       "      <td>0.0</td>\n",
       "      <td>0.0</td>\n",
       "      <td>1.0</td>\n",
       "      <td>0.0</td>\n",
       "      <td>1.0</td>\n",
       "      <td>0.0</td>\n",
       "      <td>1.0</td>\n",
       "      <td>0.0</td>\n",
       "    </tr>\n",
       "  </tbody>\n",
       "</table>\n",
       "<p>5 rows × 83 columns</p>\n",
       "</div>"
      ],
      "text/plain": [
       "   FlightNumber  PayloadMass  Flights  Block  ReusedCount  Orbit_ES-L1  \\\n",
       "0           1.0  6104.959412      1.0    1.0          0.0          0.0   \n",
       "1           2.0   525.000000      1.0    1.0          0.0          0.0   \n",
       "2           3.0   677.000000      1.0    1.0          0.0          0.0   \n",
       "3           4.0   500.000000      1.0    1.0          0.0          0.0   \n",
       "4           5.0  3170.000000      1.0    1.0          0.0          0.0   \n",
       "\n",
       "   Orbit_GEO  Orbit_GTO  Orbit_HEO  Orbit_ISS  ...  Serial_B1058  \\\n",
       "0        0.0        0.0        0.0        0.0  ...           0.0   \n",
       "1        0.0        0.0        0.0        0.0  ...           0.0   \n",
       "2        0.0        0.0        0.0        1.0  ...           0.0   \n",
       "3        0.0        0.0        0.0        0.0  ...           0.0   \n",
       "4        0.0        1.0        0.0        0.0  ...           0.0   \n",
       "\n",
       "   Serial_B1059  Serial_B1060  Serial_B1062  GridFins_False  GridFins_True  \\\n",
       "0           0.0           0.0           0.0             1.0            0.0   \n",
       "1           0.0           0.0           0.0             1.0            0.0   \n",
       "2           0.0           0.0           0.0             1.0            0.0   \n",
       "3           0.0           0.0           0.0             1.0            0.0   \n",
       "4           0.0           0.0           0.0             1.0            0.0   \n",
       "\n",
       "   Reused_False  Reused_True  Legs_False  Legs_True  \n",
       "0           1.0          0.0         1.0        0.0  \n",
       "1           1.0          0.0         1.0        0.0  \n",
       "2           1.0          0.0         1.0        0.0  \n",
       "3           1.0          0.0         1.0        0.0  \n",
       "4           1.0          0.0         1.0        0.0  \n",
       "\n",
       "[5 rows x 83 columns]"
      ]
     },
     "execution_count": 4,
     "metadata": {},
     "output_type": "execute_result"
    }
   ],
   "source": [
    "X = pd.read_csv('https://cf-courses-data.s3.us.cloud-object-storage.appdomain.cloud/IBM-DS0321EN-SkillsNetwork/datasets/dataset_part_3.csv')\n",
    "X.head()"
   ]
  },
  {
   "cell_type": "markdown",
   "id": "4ce2f57e",
   "metadata": {
    "papermill": {
     "duration": 0.051331,
     "end_time": "2021-11-20T23:01:25.272597",
     "exception": false,
     "start_time": "2021-11-20T23:01:25.221266",
     "status": "completed"
    },
    "tags": []
   },
   "source": [
    "## TASK  1\n"
   ]
  },
  {
   "cell_type": "markdown",
   "id": "63f96725",
   "metadata": {
    "papermill": {
     "duration": 0.049987,
     "end_time": "2021-11-20T23:01:25.374032",
     "exception": false,
     "start_time": "2021-11-20T23:01:25.324045",
     "status": "completed"
    },
    "tags": []
   },
   "source": [
    "Create the outcome variable from the column <code>Class</code> in <code>data</code>, then assign it to the variable <code>Y</code>, make sure the output is a Pandas series (only one bracket df\\['name of  column']).\n"
   ]
  },
  {
   "cell_type": "code",
   "execution_count": 5,
   "id": "d621d173",
   "metadata": {
    "execution": {
     "iopub.execute_input": "2021-11-20T23:01:25.478209Z",
     "iopub.status.busy": "2021-11-20T23:01:25.477250Z",
     "iopub.status.idle": "2021-11-20T23:01:25.485959Z",
     "shell.execute_reply": "2021-11-20T23:01:25.486581Z",
     "shell.execute_reply.started": "2021-11-20T22:57:45.574983Z"
    },
    "papermill": {
     "duration": 0.06271,
     "end_time": "2021-11-20T23:01:25.486751",
     "exception": false,
     "start_time": "2021-11-20T23:01:25.424041",
     "status": "completed"
    },
    "tags": []
   },
   "outputs": [
    {
     "data": {
      "text/plain": [
       "pandas.core.series.Series"
      ]
     },
     "execution_count": 5,
     "metadata": {},
     "output_type": "execute_result"
    }
   ],
   "source": [
    "Y = data['Class']\n",
    "type(Y)"
   ]
  },
  {
   "cell_type": "code",
   "execution_count": 6,
   "id": "60b18253",
   "metadata": {
    "execution": {
     "iopub.execute_input": "2021-11-20T23:01:25.591545Z",
     "iopub.status.busy": "2021-11-20T23:01:25.590574Z",
     "iopub.status.idle": "2021-11-20T23:01:25.841429Z",
     "shell.execute_reply": "2021-11-20T23:01:25.840841Z",
     "shell.execute_reply.started": "2021-11-20T23:00:28.700804Z"
    },
    "papermill": {
     "duration": 0.304522,
     "end_time": "2021-11-20T23:01:25.841606",
     "exception": false,
     "start_time": "2021-11-20T23:01:25.537084",
     "status": "completed"
    },
    "tags": []
   },
   "outputs": [
    {
     "data": {
      "image/png": "[encoded data removed]",
      "text/plain": [
       "<Figure size 576x576 with 1 Axes>"
      ]
     },
     "metadata": {
      "needs_background": "light"
     },
     "output_type": "display_data"
    }
   ],
   "source": [
    "df=Y.value_counts()\n",
    "plt.figure(figsize=(8,8))\n",
    "ax=sns.barplot(x=df.index, y=df.values, palette='hls', alpha=0.9)\n",
    "sns.despine(top=True, right=True, left=False, bottom=False)\n",
    "for p in ax.patches:\n",
    "    ax.annotate('n = {:.0f}'.format(p.get_height()), (p.get_x()+0.4, p.get_height()), \n",
    "                ha='center', va='bottom', color='black', fontsize=14)\n",
    "ax.set_xticklabels(['Unsuccessful', 'Successful'], minor=False, fontsize=12)\n",
    "plt.yticks(fontsize=12)\n",
    "plt.xticks(fontsize=12)\n",
    "plt.title('Launch Outcome Success Counts', fontsize=24)\n",
    "plt.ylabel('Number of Launches',fontsize=18)\n",
    "plt.xlabel('Outcome',fontsize=18)\n",
    "plt.show()"
   ]
  },
  {
   "cell_type": "markdown",
   "id": "c5dfb33a",
   "metadata": {
    "papermill": {
     "duration": 0.051659,
     "end_time": "2021-11-20T23:01:25.945398",
     "exception": false,
     "start_time": "2021-11-20T23:01:25.893739",
     "status": "completed"
    },
    "tags": []
   },
   "source": [
    "## TASK  2\n"
   ]
  },
  {
   "cell_type": "markdown",
   "id": "4f33909e",
   "metadata": {
    "papermill": {
     "duration": 0.052695,
     "end_time": "2021-11-20T23:01:26.051218",
     "exception": false,
     "start_time": "2021-11-20T23:01:25.998523",
     "status": "completed"
    },
    "tags": []
   },
   "source": [
    "Use the function <code>train_test_split</code> to split the data sets `X` and `Y` into training and test data. Set the parameter <code>test_size</code> to 0.2 and random_state to 2.\n"
   ]
  },
  {
   "cell_type": "code",
   "execution_count": 7,
   "id": "d3793858",
   "metadata": {
    "execution": {
     "iopub.execute_input": "2021-11-20T23:01:26.169938Z",
     "iopub.status.busy": "2021-11-20T23:01:26.169229Z",
     "iopub.status.idle": "2021-11-20T23:01:26.170618Z",
     "shell.execute_reply": "2021-11-20T23:01:26.171195Z",
     "shell.execute_reply.started": "2021-11-20T22:57:45.807432Z"
    },
    "papermill": {
     "duration": 0.066686,
     "end_time": "2021-11-20T23:01:26.171375",
     "exception": false,
     "start_time": "2021-11-20T23:01:26.104689",
     "status": "completed"
    },
    "tags": []
   },
   "outputs": [],
   "source": [
    "X_train, X_test, Y_train, Y_test = train_test_split(X, Y, test_size=0.2, random_state=2)"
   ]
  },
  {
   "cell_type": "code",
   "execution_count": 8,
   "id": "567d99e2",
   "metadata": {
    "execution": {
     "iopub.execute_input": "2021-11-20T23:01:26.286721Z",
     "iopub.status.busy": "2021-11-20T23:01:26.286010Z",
     "iopub.status.idle": "2021-11-20T23:01:26.289162Z",
     "shell.execute_reply": "2021-11-20T23:01:26.289908Z",
     "shell.execute_reply.started": "2021-11-20T22:57:45.815859Z"
    },
    "papermill": {
     "duration": 0.064637,
     "end_time": "2021-11-20T23:01:26.290102",
     "exception": false,
     "start_time": "2021-11-20T23:01:26.225465",
     "status": "completed"
    },
    "tags": []
   },
   "outputs": [
    {
     "data": {
      "text/plain": [
       "(72, 83)"
      ]
     },
     "execution_count": 8,
     "metadata": {},
     "output_type": "execute_result"
    }
   ],
   "source": [
    "X_train.shape"
   ]
  },
  {
   "cell_type": "code",
   "execution_count": 9,
   "id": "38eff853",
   "metadata": {
    "execution": {
     "iopub.execute_input": "2021-11-20T23:01:26.399218Z",
     "iopub.status.busy": "2021-11-20T23:01:26.398557Z",
     "iopub.status.idle": "2021-11-20T23:01:26.403683Z",
     "shell.execute_reply": "2021-11-20T23:01:26.403158Z",
     "shell.execute_reply.started": "2021-11-20T22:57:45.832002Z"
    },
    "papermill": {
     "duration": 0.060735,
     "end_time": "2021-11-20T23:01:26.403828",
     "exception": false,
     "start_time": "2021-11-20T23:01:26.343093",
     "status": "completed"
    },
    "tags": []
   },
   "outputs": [
    {
     "data": {
      "text/plain": [
       "(18, 83)"
      ]
     },
     "execution_count": 9,
     "metadata": {},
     "output_type": "execute_result"
    }
   ],
   "source": [
    "X_test.shape"
   ]
  },
  {
   "cell_type": "markdown",
   "id": "e97e0069",
   "metadata": {
    "papermill": {
     "duration": 0.053461,
     "end_time": "2021-11-20T23:01:26.511783",
     "exception": false,
     "start_time": "2021-11-20T23:01:26.458322",
     "status": "completed"
    },
    "tags": []
   },
   "source": [
    "After splitting the data, there are 72 records in our training set and 18 in our test set."
   ]
  },
  {
   "cell_type": "markdown",
   "id": "099adf6f",
   "metadata": {
    "papermill": {
     "duration": 0.052056,
     "end_time": "2021-11-20T23:01:26.616364",
     "exception": false,
     "start_time": "2021-11-20T23:01:26.564308",
     "status": "completed"
    },
    "tags": []
   },
   "source": [
    "## TASK  3\n"
   ]
  },
  {
   "cell_type": "markdown",
   "id": "81c3e1f0",
   "metadata": {
    "papermill": {
     "duration": 0.052067,
     "end_time": "2021-11-20T23:01:26.720984",
     "exception": false,
     "start_time": "2021-11-20T23:01:26.668917",
     "status": "completed"
    },
    "tags": []
   },
   "source": [
    "Use the function using <code>fit_transform()</code> to standardize the training data so that we can learn the scaling parameters of our training set. Then, use these learned parameters to scale our test data."
   ]
  },
  {
   "cell_type": "code",
   "execution_count": 10,
   "id": "81374918",
   "metadata": {
    "execution": {
     "iopub.execute_input": "2021-11-20T23:01:26.831682Z",
     "iopub.status.busy": "2021-11-20T23:01:26.830917Z",
     "iopub.status.idle": "2021-11-20T23:01:26.841974Z",
     "shell.execute_reply": "2021-11-20T23:01:26.842560Z",
     "shell.execute_reply.started": "2021-11-20T22:57:45.845782Z"
    },
    "papermill": {
     "duration": 0.068417,
     "end_time": "2021-11-20T23:01:26.842744",
     "exception": false,
     "start_time": "2021-11-20T23:01:26.774327",
     "status": "completed"
    },
    "tags": []
   },
   "outputs": [],
   "source": [
    "scaler = preprocessing.StandardScaler()\n",
    "X_train = scaler.fit_transform(X_train)\n",
    "X_test = scaler.transform(X_test)"
   ]
  },
  {
   "cell_type": "markdown",
   "id": "bdf75c10",
   "metadata": {
    "papermill": {
     "duration": 0.052014,
     "end_time": "2021-11-20T23:01:26.947812",
     "exception": false,
     "start_time": "2021-11-20T23:01:26.895798",
     "status": "completed"
    },
    "tags": []
   },
   "source": [
    "## TASK  4\n"
   ]
  },
  {
   "cell_type": "markdown",
   "id": "8657c627",
   "metadata": {
    "papermill": {
     "duration": 0.055473,
     "end_time": "2021-11-20T23:01:27.056205",
     "exception": false,
     "start_time": "2021-11-20T23:01:27.000732",
     "status": "completed"
    },
    "tags": []
   },
   "source": [
    "Create a logistic regression object  then create a  GridSearchCV object  <code>logreg_cv</code> with cv = 10.  Fit the object to find the best parameters from the dictionary <code>parameters</code>.\n"
   ]
  },
  {
   "cell_type": "code",
   "execution_count": 11,
   "id": "faba3ac1",
   "metadata": {
    "execution": {
     "iopub.execute_input": "2021-11-20T23:01:27.171539Z",
     "iopub.status.busy": "2021-11-20T23:01:27.170832Z",
     "iopub.status.idle": "2021-11-20T23:01:27.405445Z",
     "shell.execute_reply": "2021-11-20T23:01:27.404898Z",
     "shell.execute_reply.started": "2021-11-20T22:57:45.863417Z"
    },
    "papermill": {
     "duration": 0.294716,
     "end_time": "2021-11-20T23:01:27.405612",
     "exception": false,
     "start_time": "2021-11-20T23:01:27.110896",
     "status": "completed"
    },
    "tags": []
   },
   "outputs": [
    {
     "data": {
      "text/plain": [
       "GridSearchCV(cv=10, estimator=LogisticRegression(random_state=1),\n",
       "             param_grid={'C': [0.01, 0.1, 1], 'penalty': ['l2'],\n",
       "                         'solver': ['lbfgs']})"
      ]
     },
     "execution_count": 11,
     "metadata": {},
     "output_type": "execute_result"
    }
   ],
   "source": [
    "parameters ={'C':[0.01,0.1,1],\n",
    "             'penalty':['l2'],\n",
    "             'solver':['lbfgs']}\n",
    "lr=LogisticRegression(random_state=1)\n",
    "logreg_cv = GridSearchCV(lr, parameters, cv=10, refit=True)\n",
    "logreg_cv.fit(X_train, Y_train)"
   ]
  },
  {
   "cell_type": "markdown",
   "id": "bcdc4549",
   "metadata": {
    "papermill": {
     "duration": 0.052738,
     "end_time": "2021-11-20T23:01:27.511701",
     "exception": false,
     "start_time": "2021-11-20T23:01:27.458963",
     "status": "completed"
    },
    "tags": []
   },
   "source": [
    "We output the <code>GridSearchCV</code> object for logistic regression. We display the best parameters using the data attribute <code>best_params\\_</code> and the accuracy on the validation data using the data attribute <code>best_score\\_</code>.\n"
   ]
  },
  {
   "cell_type": "code",
   "execution_count": 12,
   "id": "67d90b61",
   "metadata": {
    "execution": {
     "iopub.execute_input": "2021-11-20T23:01:27.622616Z",
     "iopub.status.busy": "2021-11-20T23:01:27.621756Z",
     "iopub.status.idle": "2021-11-20T23:01:27.626319Z",
     "shell.execute_reply": "2021-11-20T23:01:27.627032Z",
     "shell.execute_reply.started": "2021-11-20T22:57:46.110281Z"
    },
    "papermill": {
     "duration": 0.06278,
     "end_time": "2021-11-20T23:01:27.627255",
     "exception": false,
     "start_time": "2021-11-20T23:01:27.564475",
     "status": "completed"
    },
    "tags": []
   },
   "outputs": [
    {
     "name": "stdout",
     "output_type": "stream",
     "text": [
      "Tuned hyperparameters: {'C': 0.01, 'penalty': 'l2', 'solver': 'lbfgs'}\n",
      "Cross-validation accuracy: 0.8464285714285713\n"
     ]
    }
   ],
   "source": [
    "print(\"Tuned hyperparameters:\",logreg_cv.best_params_)\n",
    "print(\"Cross-validation accuracy:\",logreg_cv.best_score_)"
   ]
  },
  {
   "cell_type": "markdown",
   "id": "65cd8ebc",
   "metadata": {
    "papermill": {
     "duration": 0.054063,
     "end_time": "2021-11-20T23:01:27.735900",
     "exception": false,
     "start_time": "2021-11-20T23:01:27.681837",
     "status": "completed"
    },
    "tags": []
   },
   "source": [
    "## TASK  5\n"
   ]
  },
  {
   "cell_type": "markdown",
   "id": "29bd2017",
   "metadata": {
    "papermill": {
     "duration": 0.053137,
     "end_time": "2021-11-20T23:01:27.847306",
     "exception": false,
     "start_time": "2021-11-20T23:01:27.794169",
     "status": "completed"
    },
    "tags": []
   },
   "source": [
    "Calculate the accuracy on the test data using the method <code>score</code>:\n"
   ]
  },
  {
   "cell_type": "code",
   "execution_count": 13,
   "id": "ad943c6c",
   "metadata": {
    "execution": {
     "iopub.execute_input": "2021-11-20T23:01:27.960028Z",
     "iopub.status.busy": "2021-11-20T23:01:27.959005Z",
     "iopub.status.idle": "2021-11-20T23:01:27.968344Z",
     "shell.execute_reply": "2021-11-20T23:01:27.969114Z",
     "shell.execute_reply.started": "2021-11-20T22:57:46.117377Z"
    },
    "papermill": {
     "duration": 0.069105,
     "end_time": "2021-11-20T23:01:27.969293",
     "exception": false,
     "start_time": "2021-11-20T23:01:27.900188",
     "status": "completed"
    },
    "tags": []
   },
   "outputs": [
    {
     "name": "stdout",
     "output_type": "stream",
     "text": [
      "Test set accuracy: 83.3%\n",
      "Test set AUC: 0.889\n"
     ]
    }
   ],
   "source": [
    "glm_acc=logreg_cv.score(X_test, Y_test)\n",
    "print(\"Test set accuracy: {:.1%}\".format(glm_acc))\n",
    "glm_probs = logreg_cv.predict_proba(X_test)[:,1]\n",
    "glm_auc=roc_auc_score(Y_test, glm_probs) \n",
    "print(\"Test set AUC: {:.3}\".format(glm_auc))"
   ]
  },
  {
   "cell_type": "markdown",
   "id": "fbb4ebdf",
   "metadata": {
    "papermill": {
     "duration": 0.053771,
     "end_time": "2021-11-20T23:01:28.077063",
     "exception": false,
     "start_time": "2021-11-20T23:01:28.023292",
     "status": "completed"
    },
    "tags": []
   },
   "source": [
    "Lets look at the confusion matrix:\n"
   ]
  },
  {
   "cell_type": "code",
   "execution_count": 14,
   "id": "ec7c93f8",
   "metadata": {
    "execution": {
     "iopub.execute_input": "2021-11-20T23:01:28.188272Z",
     "iopub.status.busy": "2021-11-20T23:01:28.187586Z",
     "iopub.status.idle": "2021-11-20T23:01:28.515812Z",
     "shell.execute_reply": "2021-11-20T23:01:28.515130Z",
     "shell.execute_reply.started": "2021-11-20T22:57:46.136221Z"
    },
    "papermill": {
     "duration": 0.384662,
     "end_time": "2021-11-20T23:01:28.515958",
     "exception": false,
     "start_time": "2021-11-20T23:01:28.131296",
     "status": "completed"
    },
    "tags": []
   },
   "outputs": [
    {
     "name": "stdout",
     "output_type": "stream",
     "text": [
      "              precision    recall  f1-score   support\n",
      "\n",
      "           0       1.00      0.50      0.67         6\n",
      "           1       0.80      1.00      0.89        12\n",
      "\n",
      "    accuracy                           0.83        18\n",
      "   macro avg       0.90      0.75      0.78        18\n",
      "weighted avg       0.87      0.83      0.81        18\n",
      "\n",
      "Confusion matrix, without normalization\n",
      "[[12  0]\n",
      " [ 3  3]]\n"
     ]
    },
    {
     "data": {
      "image/png": "[encoded data removed]",
      "text/plain": [
       "<Figure size 576x432 with 2 Axes>"
      ]
     },
     "metadata": {
      "needs_background": "light"
     },
     "output_type": "display_data"
    }
   ],
   "source": [
    "# Compute confusion matrix\n",
    "glm_yhat = logreg_cv.predict(X_test)\n",
    "glm_f1 = f1_score(Y_test, glm_yhat) \n",
    "glm_prec = precision_score(Y_test, glm_yhat)\n",
    "glm_rec = recall_score(Y_test, glm_yhat) \n",
    "cnf_matrix = confusion_matrix(Y_test, glm_yhat, labels=[1,0])\n",
    "np.set_printoptions(precision=2)\n",
    "print(classification_report(Y_test, glm_yhat))\n",
    "\n",
    "# Plot non-normalized confusion matrix\n",
    "plt.figure(figsize=(8,6))\n",
    "plot_confusion_matrix(cnf_matrix, classes=['Landed', 'Did not land'], normalize= False, title='GLM Confusion matrix')"
   ]
  },
  {
   "cell_type": "markdown",
   "id": "49924428",
   "metadata": {
    "papermill": {
     "duration": 0.054284,
     "end_time": "2021-11-20T23:01:28.626292",
     "exception": false,
     "start_time": "2021-11-20T23:01:28.572008",
     "status": "completed"
    },
    "tags": []
   },
   "source": [
    "Examining the confusion matrix, we see that logistic regression can distinguish between the different classes.  We see that the major problem is false positives.\n"
   ]
  },
  {
   "cell_type": "markdown",
   "id": "557e00af",
   "metadata": {
    "papermill": {
     "duration": 0.054553,
     "end_time": "2021-11-20T23:01:28.735523",
     "exception": false,
     "start_time": "2021-11-20T23:01:28.680970",
     "status": "completed"
    },
    "tags": []
   },
   "source": [
    "## TASK  6\n"
   ]
  },
  {
   "cell_type": "markdown",
   "id": "3d82fda0",
   "metadata": {
    "papermill": {
     "duration": 0.054055,
     "end_time": "2021-11-20T23:01:28.845183",
     "exception": false,
     "start_time": "2021-11-20T23:01:28.791128",
     "status": "completed"
    },
    "tags": []
   },
   "source": [
    "Create a support vector machine object then  create a  <code>GridSearchCV</code> object  <code>svm_cv</code> with cv - 10.  Fit the object to find the best parameters from the dictionary <code>parameters</code>.\n"
   ]
  },
  {
   "cell_type": "code",
   "execution_count": 15,
   "id": "edbd101d",
   "metadata": {
    "execution": {
     "iopub.execute_input": "2021-11-20T23:01:28.957764Z",
     "iopub.status.busy": "2021-11-20T23:01:28.957069Z",
     "iopub.status.idle": "2021-11-20T23:01:28.961880Z",
     "shell.execute_reply": "2021-11-20T23:01:28.962456Z",
     "shell.execute_reply.started": "2021-11-20T22:57:46.480148Z"
    },
    "papermill": {
     "duration": 0.062924,
     "end_time": "2021-11-20T23:01:28.962651",
     "exception": false,
     "start_time": "2021-11-20T23:01:28.899727",
     "status": "completed"
    },
    "tags": []
   },
   "outputs": [],
   "source": [
    "parameters = {'kernel':('linear', 'rbf','poly','rbf', 'sigmoid'),\n",
    "              'C': np.logspace(-3, 3, 5),\n",
    "              'gamma':np.logspace(-3, 3, 5)}\n",
    "svm = SVC(probability=True, random_state=1)"
   ]
  },
  {
   "cell_type": "code",
   "execution_count": 16,
   "id": "033435f6",
   "metadata": {
    "execution": {
     "iopub.execute_input": "2021-11-20T23:01:29.078775Z",
     "iopub.status.busy": "2021-11-20T23:01:29.078083Z",
     "iopub.status.idle": "2021-11-20T23:01:35.511377Z",
     "shell.execute_reply": "2021-11-20T23:01:35.510805Z",
     "shell.execute_reply.started": "2021-11-20T22:57:46.487748Z"
    },
    "papermill": {
     "duration": 6.49166,
     "end_time": "2021-11-20T23:01:35.511545",
     "exception": false,
     "start_time": "2021-11-20T23:01:29.019885",
     "status": "completed"
    },
    "tags": []
   },
   "outputs": [
    {
     "data": {
      "text/plain": [
       "GridSearchCV(cv=10, estimator=SVC(probability=True, random_state=1),\n",
       "             param_grid={'C': array([1.00e-03, 3.16e-02, 1.00e+00, 3.16e+01, 1.00e+03]),\n",
       "                         'gamma': array([1.00e-03, 3.16e-02, 1.00e+00, 3.16e+01, 1.00e+03]),\n",
       "                         'kernel': ('linear', 'rbf', 'poly', 'rbf', 'sigmoid')})"
      ]
     },
     "execution_count": 16,
     "metadata": {},
     "output_type": "execute_result"
    }
   ],
   "source": [
    "svm_cv = GridSearchCV(svm, parameters, cv=10)\n",
    "svm_cv.fit(X_train, Y_train)"
   ]
  },
  {
   "cell_type": "code",
   "execution_count": 17,
   "id": "b6157648",
   "metadata": {
    "execution": {
     "iopub.execute_input": "2021-11-20T23:01:35.627453Z",
     "iopub.status.busy": "2021-11-20T23:01:35.626689Z",
     "iopub.status.idle": "2021-11-20T23:01:35.630365Z",
     "shell.execute_reply": "2021-11-20T23:01:35.629742Z",
     "shell.execute_reply.started": "2021-11-20T22:57:53.027725Z"
    },
    "papermill": {
     "duration": 0.063664,
     "end_time": "2021-11-20T23:01:35.630527",
     "exception": false,
     "start_time": "2021-11-20T23:01:35.566863",
     "status": "completed"
    },
    "tags": []
   },
   "outputs": [
    {
     "name": "stdout",
     "output_type": "stream",
     "text": [
      "Tuned hyperparameters: {'C': 1.0, 'gamma': 0.03162277660168379, 'kernel': 'sigmoid'}\n",
      "Cross-validation accuracy: 0.8482142857142856\n"
     ]
    }
   ],
   "source": [
    "print(\"Tuned hyperparameters:\",svm_cv.best_params_)\n",
    "print(\"Cross-validation accuracy:\",svm_cv.best_score_)"
   ]
  },
  {
   "cell_type": "markdown",
   "id": "ff37aaca",
   "metadata": {
    "papermill": {
     "duration": 0.055134,
     "end_time": "2021-11-20T23:01:35.741179",
     "exception": false,
     "start_time": "2021-11-20T23:01:35.686045",
     "status": "completed"
    },
    "tags": []
   },
   "source": [
    "## TASK  7\n"
   ]
  },
  {
   "cell_type": "markdown",
   "id": "89cec653",
   "metadata": {
    "papermill": {
     "duration": 0.056132,
     "end_time": "2021-11-20T23:01:35.852768",
     "exception": false,
     "start_time": "2021-11-20T23:01:35.796636",
     "status": "completed"
    },
    "tags": []
   },
   "source": [
    "Calculate the accuracy on the test data using the method <code>score</code>:\n"
   ]
  },
  {
   "cell_type": "code",
   "execution_count": 18,
   "id": "cae7386a",
   "metadata": {
    "execution": {
     "iopub.execute_input": "2021-11-20T23:01:35.972718Z",
     "iopub.status.busy": "2021-11-20T23:01:35.970912Z",
     "iopub.status.idle": "2021-11-20T23:01:35.980230Z",
     "shell.execute_reply": "2021-11-20T23:01:35.979334Z",
     "shell.execute_reply.started": "2021-11-20T22:57:53.034374Z"
    },
    "papermill": {
     "duration": 0.070554,
     "end_time": "2021-11-20T23:01:35.980418",
     "exception": false,
     "start_time": "2021-11-20T23:01:35.909864",
     "status": "completed"
    },
    "tags": []
   },
   "outputs": [
    {
     "name": "stdout",
     "output_type": "stream",
     "text": [
      "Test set accuracy: 83.3%\n",
      "Test set AUC: 0.958\n"
     ]
    }
   ],
   "source": [
    "svm_acc=svm_cv.score(X_test, Y_test)\n",
    "print(\"Test set accuracy: {:.1%}\".format(svm_acc))\n",
    "svm_probs = svm_cv.predict_proba(X_test)[:,1]\n",
    "svm_auc=roc_auc_score(Y_test, svm_probs) \n",
    "print(\"Test set AUC: {:.3}\".format(svm_auc))"
   ]
  },
  {
   "cell_type": "markdown",
   "id": "edb4e003",
   "metadata": {
    "papermill": {
     "duration": 0.056085,
     "end_time": "2021-11-20T23:01:36.093689",
     "exception": false,
     "start_time": "2021-11-20T23:01:36.037604",
     "status": "completed"
    },
    "tags": []
   },
   "source": [
    "We can plot the confusion matrix\n"
   ]
  },
  {
   "cell_type": "code",
   "execution_count": 19,
   "id": "361f6413",
   "metadata": {
    "execution": {
     "iopub.execute_input": "2021-11-20T23:01:36.213146Z",
     "iopub.status.busy": "2021-11-20T23:01:36.212077Z",
     "iopub.status.idle": "2021-11-20T23:01:36.537629Z",
     "shell.execute_reply": "2021-11-20T23:01:36.538205Z",
     "shell.execute_reply.started": "2021-11-20T22:57:53.053852Z"
    },
    "papermill": {
     "duration": 0.389215,
     "end_time": "2021-11-20T23:01:36.538375",
     "exception": false,
     "start_time": "2021-11-20T23:01:36.149160",
     "status": "completed"
    },
    "tags": []
   },
   "outputs": [
    {
     "name": "stdout",
     "output_type": "stream",
     "text": [
      "              precision    recall  f1-score   support\n",
      "\n",
      "           0       1.00      0.50      0.67         6\n",
      "           1       0.80      1.00      0.89        12\n",
      "\n",
      "    accuracy                           0.83        18\n",
      "   macro avg       0.90      0.75      0.78        18\n",
      "weighted avg       0.87      0.83      0.81        18\n",
      "\n",
      "Confusion matrix, without normalization\n",
      "[[12  0]\n",
      " [ 3  3]]\n"
     ]
    },
    {
     "data": {
      "image/png": "[encoded data removed]",
      "text/plain": [
       "<Figure size 576x432 with 2 Axes>"
      ]
     },
     "metadata": {
      "needs_background": "light"
     },
     "output_type": "display_data"
    }
   ],
   "source": [
    "# Compute confusion matrix\n",
    "svm_yhat = svm_cv.predict(X_test)\n",
    "svm_f1 = f1_score(Y_test, svm_yhat) \n",
    "svm_prec = precision_score(Y_test, svm_yhat)\n",
    "svm_rec = recall_score(Y_test, svm_yhat) \n",
    "cnf_matrix = confusion_matrix(Y_test, svm_yhat, labels=[1,0])\n",
    "np.set_printoptions(precision=2)\n",
    "print(classification_report(Y_test, svm_yhat))\n",
    "\n",
    "# Plot non-normalized confusion matrix\n",
    "plt.figure(figsize=(8,6))\n",
    "plot_confusion_matrix(cnf_matrix, classes=['Landed', 'Did not land'], normalize=False, title='SVM Confusion matrix')"
   ]
  },
  {
   "cell_type": "markdown",
   "id": "d722f24a",
   "metadata": {
    "papermill": {
     "duration": 0.056339,
     "end_time": "2021-11-20T23:01:36.651359",
     "exception": false,
     "start_time": "2021-11-20T23:01:36.595020",
     "status": "completed"
    },
    "tags": []
   },
   "source": [
    "## TASK  8\n"
   ]
  },
  {
   "cell_type": "markdown",
   "id": "2a2959f1",
   "metadata": {
    "papermill": {
     "duration": 0.056491,
     "end_time": "2021-11-20T23:01:36.764704",
     "exception": false,
     "start_time": "2021-11-20T23:01:36.708213",
     "status": "completed"
    },
    "tags": []
   },
   "source": [
    "Create a decision tree classifier object then  create a  <code>GridSearchCV</code> object  <code>tree_cv</code> with cv = 10.  Fit the object to find the best parameters from the dictionary <code>parameters</code>.\n"
   ]
  },
  {
   "cell_type": "code",
   "execution_count": 20,
   "id": "c9f533ef",
   "metadata": {
    "execution": {
     "iopub.execute_input": "2021-11-20T23:01:36.882041Z",
     "iopub.status.busy": "2021-11-20T23:01:36.881275Z",
     "iopub.status.idle": "2021-11-20T23:01:36.887459Z",
     "shell.execute_reply": "2021-11-20T23:01:36.886913Z",
     "shell.execute_reply.started": "2021-11-20T22:57:53.406785Z"
    },
    "papermill": {
     "duration": 0.066247,
     "end_time": "2021-11-20T23:01:36.887624",
     "exception": false,
     "start_time": "2021-11-20T23:01:36.821377",
     "status": "completed"
    },
    "tags": []
   },
   "outputs": [],
   "source": [
    "parameters = {'criterion': ['gini', 'entropy'],\n",
    "     'splitter': ['best', 'random'],\n",
    "     'max_depth': [2*n for n in range(1,10)],\n",
    "     'max_features': ['auto', 'sqrt'],\n",
    "     'min_samples_leaf': [1, 2, 4],\n",
    "     'min_samples_split': [2, 5, 10]}\n",
    "\n",
    "tree = DecisionTreeClassifier(random_state=1)"
   ]
  },
  {
   "cell_type": "code",
   "execution_count": 21,
   "id": "f041502f",
   "metadata": {
    "execution": {
     "iopub.execute_input": "2021-11-20T23:01:37.006425Z",
     "iopub.status.busy": "2021-11-20T23:01:37.005750Z",
     "iopub.status.idle": "2021-11-20T23:01:50.103176Z",
     "shell.execute_reply": "2021-11-20T23:01:50.102632Z",
     "shell.execute_reply.started": "2021-11-20T22:57:53.413816Z"
    },
    "papermill": {
     "duration": 13.157377,
     "end_time": "2021-11-20T23:01:50.103323",
     "exception": false,
     "start_time": "2021-11-20T23:01:36.945946",
     "status": "completed"
    },
    "tags": []
   },
   "outputs": [
    {
     "data": {
      "text/plain": [
       "GridSearchCV(cv=10, estimator=DecisionTreeClassifier(random_state=1),\n",
       "             param_grid={'criterion': ['gini', 'entropy'],\n",
       "                         'max_depth': [2, 4, 6, 8, 10, 12, 14, 16, 18],\n",
       "                         'max_features': ['auto', 'sqrt'],\n",
       "                         'min_samples_leaf': [1, 2, 4],\n",
       "                         'min_samples_split': [2, 5, 10],\n",
       "                         'splitter': ['best', 'random']})"
      ]
     },
     "execution_count": 21,
     "metadata": {},
     "output_type": "execute_result"
    }
   ],
   "source": [
    "tree_cv = GridSearchCV(tree, parameters, cv=10)\n",
    "tree_cv.fit(X_train, Y_train)"
   ]
  },
  {
   "cell_type": "code",
   "execution_count": 22,
   "id": "133ae728",
   "metadata": {
    "execution": {
     "iopub.execute_input": "2021-11-20T23:01:50.223916Z",
     "iopub.status.busy": "2021-11-20T23:01:50.223017Z",
     "iopub.status.idle": "2021-11-20T23:01:50.226143Z",
     "shell.execute_reply": "2021-11-20T23:01:50.226666Z",
     "shell.execute_reply.started": "2021-11-20T22:58:06.947138Z"
    },
    "papermill": {
     "duration": 0.066199,
     "end_time": "2021-11-20T23:01:50.226874",
     "exception": false,
     "start_time": "2021-11-20T23:01:50.160675",
     "status": "completed"
    },
    "tags": []
   },
   "outputs": [
    {
     "name": "stdout",
     "output_type": "stream",
     "text": [
      "Tuned hyperparameters: {'criterion': 'gini', 'max_depth': 4, 'max_features': 'auto', 'min_samples_leaf': 1, 'min_samples_split': 10, 'splitter': 'random'}\n",
      "Cross-validation Accuracy: 0.8357142857142857\n"
     ]
    }
   ],
   "source": [
    "print(\"Tuned hyperparameters:\",tree_cv.best_params_)\n",
    "print(\"Cross-validation Accuracy:\",tree_cv.best_score_)"
   ]
  },
  {
   "cell_type": "markdown",
   "id": "29b4a678",
   "metadata": {
    "papermill": {
     "duration": 0.057354,
     "end_time": "2021-11-20T23:01:50.341696",
     "exception": false,
     "start_time": "2021-11-20T23:01:50.284342",
     "status": "completed"
    },
    "tags": []
   },
   "source": [
    "## TASK  9\n"
   ]
  },
  {
   "cell_type": "markdown",
   "id": "a3a62960",
   "metadata": {
    "papermill": {
     "duration": 0.057062,
     "end_time": "2021-11-20T23:01:50.456300",
     "exception": false,
     "start_time": "2021-11-20T23:01:50.399238",
     "status": "completed"
    },
    "tags": []
   },
   "source": [
    "Calculate the accuracy of tree_cv on the test data using the method <code>score</code>:\n"
   ]
  },
  {
   "cell_type": "code",
   "execution_count": 23,
   "id": "c1b9d161",
   "metadata": {
    "execution": {
     "iopub.execute_input": "2021-11-20T23:01:50.576765Z",
     "iopub.status.busy": "2021-11-20T23:01:50.576068Z",
     "iopub.status.idle": "2021-11-20T23:01:50.582237Z",
     "shell.execute_reply": "2021-11-20T23:01:50.582850Z",
     "shell.execute_reply.started": "2021-11-20T22:58:06.954594Z"
    },
    "papermill": {
     "duration": 0.069249,
     "end_time": "2021-11-20T23:01:50.583020",
     "exception": false,
     "start_time": "2021-11-20T23:01:50.513771",
     "status": "completed"
    },
    "tags": []
   },
   "outputs": [
    {
     "name": "stdout",
     "output_type": "stream",
     "text": [
      "Test set accuracy: 77.8%\n",
      "Test set AUC: 0.792\n"
     ]
    }
   ],
   "source": [
    "tree_acc=tree_cv.score(X_test, Y_test)\n",
    "print(\"Test set accuracy: {:.1%}\".format(tree_acc))\n",
    "tree_probs = tree_cv.predict_proba(X_test)[:,1]\n",
    "tree_auc=roc_auc_score(Y_test, tree_probs) \n",
    "print(\"Test set AUC: {:.3}\".format(tree_auc))"
   ]
  },
  {
   "cell_type": "markdown",
   "id": "34555645",
   "metadata": {
    "papermill": {
     "duration": 0.057817,
     "end_time": "2021-11-20T23:01:50.698874",
     "exception": false,
     "start_time": "2021-11-20T23:01:50.641057",
     "status": "completed"
    },
    "tags": []
   },
   "source": [
    "We can plot the confusion matrix\n"
   ]
  },
  {
   "cell_type": "code",
   "execution_count": 24,
   "id": "61246569",
   "metadata": {
    "execution": {
     "iopub.execute_input": "2021-11-20T23:01:50.825519Z",
     "iopub.status.busy": "2021-11-20T23:01:50.818269Z",
     "iopub.status.idle": "2021-11-20T23:01:51.163532Z",
     "shell.execute_reply": "2021-11-20T23:01:51.162866Z",
     "shell.execute_reply.started": "2021-11-20T22:58:06.975092Z"
    },
    "papermill": {
     "duration": 0.406953,
     "end_time": "2021-11-20T23:01:51.163681",
     "exception": false,
     "start_time": "2021-11-20T23:01:50.756728",
     "status": "completed"
    },
    "tags": []
   },
   "outputs": [
    {
     "name": "stdout",
     "output_type": "stream",
     "text": [
      "              precision    recall  f1-score   support\n",
      "\n",
      "           0       0.62      0.83      0.71         6\n",
      "           1       0.90      0.75      0.82        12\n",
      "\n",
      "    accuracy                           0.78        18\n",
      "   macro avg       0.76      0.79      0.77        18\n",
      "weighted avg       0.81      0.78      0.78        18\n",
      "\n",
      "Confusion matrix, without normalization\n",
      "[[9 3]\n",
      " [1 5]]\n"
     ]
    },
    {
     "data": {
      "image/png": "[encoded data removed]",
      "text/plain": [
       "<Figure size 576x432 with 2 Axes>"
      ]
     },
     "metadata": {
      "needs_background": "light"
     },
     "output_type": "display_data"
    }
   ],
   "source": [
    "# Compute confusion matrix\n",
    "tree_yhat = tree_cv.predict(X_test)\n",
    "tree_f1 = f1_score(Y_test, tree_yhat) \n",
    "tree_prec = precision_score(Y_test, tree_yhat)\n",
    "tree_rec = recall_score(Y_test, tree_yhat) \n",
    "cnf_matrix = confusion_matrix(Y_test, tree_yhat, labels=[1,0])\n",
    "np.set_printoptions(precision=2)\n",
    "print(classification_report(Y_test, tree_yhat))\n",
    "\n",
    "# Plot non-normalized confusion matrix\n",
    "plt.figure(figsize=(8,6))\n",
    "plot_confusion_matrix(cnf_matrix, classes=['Landed', 'Did not land'], normalize=False, title='Decision Tree Confusion matrix')"
   ]
  },
  {
   "cell_type": "markdown",
   "id": "9babc5f4",
   "metadata": {
    "papermill": {
     "duration": 0.058686,
     "end_time": "2021-11-20T23:01:51.281632",
     "exception": false,
     "start_time": "2021-11-20T23:01:51.222946",
     "status": "completed"
    },
    "tags": []
   },
   "source": [
    "## TASK  10\n"
   ]
  },
  {
   "cell_type": "markdown",
   "id": "78c8a927",
   "metadata": {
    "papermill": {
     "duration": 0.058712,
     "end_time": "2021-11-20T23:01:51.399687",
     "exception": false,
     "start_time": "2021-11-20T23:01:51.340975",
     "status": "completed"
    },
    "tags": []
   },
   "source": [
    "Create a k nearest neighbors object then  create a  <code>GridSearchCV</code> object  <code>knn_cv</code> with cv = 10.  Fit the object to find the best parameters from the dictionary <code>parameters</code>.\n"
   ]
  },
  {
   "cell_type": "code",
   "execution_count": 25,
   "id": "a2626ba0",
   "metadata": {
    "execution": {
     "iopub.execute_input": "2021-11-20T23:01:51.522186Z",
     "iopub.status.busy": "2021-11-20T23:01:51.521099Z",
     "iopub.status.idle": "2021-11-20T23:01:51.525847Z",
     "shell.execute_reply": "2021-11-20T23:01:51.526364Z",
     "shell.execute_reply.started": "2021-11-20T22:58:07.326680Z"
    },
    "papermill": {
     "duration": 0.067568,
     "end_time": "2021-11-20T23:01:51.526567",
     "exception": false,
     "start_time": "2021-11-20T23:01:51.458999",
     "status": "completed"
    },
    "tags": []
   },
   "outputs": [],
   "source": [
    "parameters = {'n_neighbors': [1, 2, 3, 4, 5, 6, 7, 8, 9, 10],\n",
    "              'algorithm': ['auto', 'ball_tree', 'kd_tree', 'brute'],\n",
    "              'p': [1,2]}\n",
    "\n",
    "KNN = KNeighborsClassifier()"
   ]
  },
  {
   "cell_type": "code",
   "execution_count": 26,
   "id": "efd609bf",
   "metadata": {
    "execution": {
     "iopub.execute_input": "2021-11-20T23:01:51.651460Z",
     "iopub.status.busy": "2021-11-20T23:01:51.650421Z",
     "iopub.status.idle": "2021-11-20T23:01:53.628042Z",
     "shell.execute_reply": "2021-11-20T23:01:53.627341Z",
     "shell.execute_reply.started": "2021-11-20T22:58:07.334436Z"
    },
    "papermill": {
     "duration": 2.042921,
     "end_time": "2021-11-20T23:01:53.628184",
     "exception": false,
     "start_time": "2021-11-20T23:01:51.585263",
     "status": "completed"
    },
    "tags": []
   },
   "outputs": [
    {
     "data": {
      "text/plain": [
       "GridSearchCV(cv=10, estimator=KNeighborsClassifier(),\n",
       "             param_grid={'algorithm': ['auto', 'ball_tree', 'kd_tree', 'brute'],\n",
       "                         'n_neighbors': [1, 2, 3, 4, 5, 6, 7, 8, 9, 10],\n",
       "                         'p': [1, 2]})"
      ]
     },
     "execution_count": 26,
     "metadata": {},
     "output_type": "execute_result"
    }
   ],
   "source": [
    "knn_cv = GridSearchCV(KNN, parameters, cv=10)\n",
    "knn_cv.fit(X_train, Y_train)"
   ]
  },
  {
   "cell_type": "code",
   "execution_count": 27,
   "id": "344ce695",
   "metadata": {
    "execution": {
     "iopub.execute_input": "2021-11-20T23:01:53.752974Z",
     "iopub.status.busy": "2021-11-20T23:01:53.752054Z",
     "iopub.status.idle": "2021-11-20T23:01:53.755800Z",
     "shell.execute_reply": "2021-11-20T23:01:53.755155Z",
     "shell.execute_reply.started": "2021-11-20T22:58:09.363556Z"
    },
    "papermill": {
     "duration": 0.067846,
     "end_time": "2021-11-20T23:01:53.755951",
     "exception": false,
     "start_time": "2021-11-20T23:01:53.688105",
     "status": "completed"
    },
    "tags": []
   },
   "outputs": [
    {
     "name": "stdout",
     "output_type": "stream",
     "text": [
      "Tuned hyperparameters: {'algorithm': 'auto', 'n_neighbors': 10, 'p': 1}\n",
      "Cross-validation accuracy: 0.8482142857142858\n"
     ]
    }
   ],
   "source": [
    "print(\"Tuned hyperparameters:\",knn_cv.best_params_)\n",
    "print(\"Cross-validation accuracy:\",knn_cv.best_score_)"
   ]
  },
  {
   "cell_type": "markdown",
   "id": "82f9347c",
   "metadata": {
    "papermill": {
     "duration": 0.059504,
     "end_time": "2021-11-20T23:01:53.875478",
     "exception": false,
     "start_time": "2021-11-20T23:01:53.815974",
     "status": "completed"
    },
    "tags": []
   },
   "source": [
    "## TASK  11\n"
   ]
  },
  {
   "cell_type": "markdown",
   "id": "d8d5a9a8",
   "metadata": {
    "papermill": {
     "duration": 0.087725,
     "end_time": "2021-11-20T23:01:54.034044",
     "exception": false,
     "start_time": "2021-11-20T23:01:53.946319",
     "status": "completed"
    },
    "tags": []
   },
   "source": [
    "Calculate the accuracy of tree_cv on the test data using the method <code>accuracy_score</code>:\n"
   ]
  },
  {
   "cell_type": "code",
   "execution_count": 28,
   "id": "ededc846",
   "metadata": {
    "execution": {
     "iopub.execute_input": "2021-11-20T23:01:54.164766Z",
     "iopub.status.busy": "2021-11-20T23:01:54.164070Z",
     "iopub.status.idle": "2021-11-20T23:01:54.178116Z",
     "shell.execute_reply": "2021-11-20T23:01:54.178744Z",
     "shell.execute_reply.started": "2021-11-20T22:58:09.370404Z"
    },
    "papermill": {
     "duration": 0.07875,
     "end_time": "2021-11-20T23:01:54.178919",
     "exception": false,
     "start_time": "2021-11-20T23:01:54.100169",
     "status": "completed"
    },
    "tags": []
   },
   "outputs": [
    {
     "name": "stdout",
     "output_type": "stream",
     "text": [
      "Test set accuracy: 83.3%\n",
      "Test set AUC: 0.847\n"
     ]
    }
   ],
   "source": [
    "knn_acc = knn_cv.score(X_test, Y_test)\n",
    "print(\"Test set accuracy: {:.1%}\".format(knn_acc))\n",
    "knn_probs = knn_cv.predict_proba(X_test)[:,1]\n",
    "knn_auc=roc_auc_score(Y_test, knn_probs) \n",
    "print(\"Test set AUC: {:.3}\".format(knn_auc))"
   ]
  },
  {
   "cell_type": "markdown",
   "id": "23aeb9b2",
   "metadata": {
    "papermill": {
     "duration": 0.062847,
     "end_time": "2021-11-20T23:01:54.319210",
     "exception": false,
     "start_time": "2021-11-20T23:01:54.256363",
     "status": "completed"
    },
    "tags": []
   },
   "source": [
    "We can plot the confusion matrix\n"
   ]
  },
  {
   "cell_type": "code",
   "execution_count": 29,
   "id": "e4102a03",
   "metadata": {
    "execution": {
     "iopub.execute_input": "2021-11-20T23:01:54.445276Z",
     "iopub.status.busy": "2021-11-20T23:01:54.444599Z",
     "iopub.status.idle": "2021-11-20T23:01:54.780412Z",
     "shell.execute_reply": "2021-11-20T23:01:54.781028Z",
     "shell.execute_reply.started": "2021-11-20T22:58:09.391478Z"
    },
    "papermill": {
     "duration": 0.400402,
     "end_time": "2021-11-20T23:01:54.781223",
     "exception": false,
     "start_time": "2021-11-20T23:01:54.380821",
     "status": "completed"
    },
    "tags": []
   },
   "outputs": [
    {
     "name": "stdout",
     "output_type": "stream",
     "text": [
      "              precision    recall  f1-score   support\n",
      "\n",
      "           0       1.00      0.50      0.67         6\n",
      "           1       0.80      1.00      0.89        12\n",
      "\n",
      "    accuracy                           0.83        18\n",
      "   macro avg       0.90      0.75      0.78        18\n",
      "weighted avg       0.87      0.83      0.81        18\n",
      "\n",
      "Confusion matrix, without normalization\n",
      "[[12  0]\n",
      " [ 3  3]]\n"
     ]
    },
    {
     "data": {
      "image/png": "[encoded data removed]",
      "text/plain": [
       "<Figure size 576x432 with 2 Axes>"
      ]
     },
     "metadata": {
      "needs_background": "light"
     },
     "output_type": "display_data"
    }
   ],
   "source": [
    "# Compute confusion matrix\n",
    "knn_yhat = knn_cv.predict(X_test)\n",
    "knn_f1 = f1_score(Y_test, knn_yhat) \n",
    "knn_prec = precision_score(Y_test, knn_yhat)\n",
    "knn_rec = recall_score(Y_test, knn_yhat) \n",
    "cnf_matrix = confusion_matrix(Y_test, knn_yhat, labels=[1,0])\n",
    "np.set_printoptions(precision=2)\n",
    "print(classification_report(Y_test, knn_yhat))\n",
    "\n",
    "# Plot non-normalized confusion matrix\n",
    "plt.figure(figsize=(8,6))\n",
    "plot_confusion_matrix(cnf_matrix, classes=['Landed', 'Did not land'], normalize=False, title='KNN Confusion matrix')"
   ]
  },
  {
   "cell_type": "markdown",
   "id": "0757dbc4",
   "metadata": {
    "papermill": {
     "duration": 0.062359,
     "end_time": "2021-11-20T23:01:54.907070",
     "exception": false,
     "start_time": "2021-11-20T23:01:54.844711",
     "status": "completed"
    },
    "tags": []
   },
   "source": [
    "## TASK  12\n"
   ]
  },
  {
   "cell_type": "markdown",
   "id": "e039aa60",
   "metadata": {
    "papermill": {
     "duration": 0.061609,
     "end_time": "2021-11-20T23:01:55.031858",
     "exception": false,
     "start_time": "2021-11-20T23:01:54.970249",
     "status": "completed"
    },
    "tags": []
   },
   "source": [
    "Find the method performs best:\n"
   ]
  },
  {
   "cell_type": "code",
   "execution_count": 30,
   "id": "1f3df17f",
   "metadata": {
    "execution": {
     "iopub.execute_input": "2021-11-20T23:01:55.160073Z",
     "iopub.status.busy": "2021-11-20T23:01:55.159307Z",
     "iopub.status.idle": "2021-11-20T23:01:55.177038Z",
     "shell.execute_reply": "2021-11-20T23:01:55.177573Z",
     "shell.execute_reply.started": "2021-11-20T22:58:09.733176Z"
    },
    "papermill": {
     "duration": 0.084197,
     "end_time": "2021-11-20T23:01:55.177758",
     "exception": false,
     "start_time": "2021-11-20T23:01:55.093561",
     "status": "completed"
    },
    "tags": []
   },
   "outputs": [
    {
     "data": {
      "text/html": [
       "<div>\n",
       "<style scoped>\n",
       "    .dataframe tbody tr th:only-of-type {\n",
       "        vertical-align: middle;\n",
       "    }\n",
       "\n",
       "    .dataframe tbody tr th {\n",
       "        vertical-align: top;\n",
       "    }\n",
       "\n",
       "    .dataframe thead th {\n",
       "        text-align: right;\n",
       "    }\n",
       "</style>\n",
       "<table border=\"1\" class=\"dataframe\">\n",
       "  <thead>\n",
       "    <tr style=\"text-align: right;\">\n",
       "      <th></th>\n",
       "      <th>AUC</th>\n",
       "      <th>F1-Score</th>\n",
       "      <th>Precision</th>\n",
       "      <th>Recall</th>\n",
       "      <th>Accuracy</th>\n",
       "    </tr>\n",
       "  </thead>\n",
       "  <tbody>\n",
       "    <tr>\n",
       "      <th>SVM</th>\n",
       "      <td>0.958</td>\n",
       "      <td>0.889</td>\n",
       "      <td>0.8</td>\n",
       "      <td>1.00</td>\n",
       "      <td>0.833</td>\n",
       "    </tr>\n",
       "    <tr>\n",
       "      <th>Logistic Regression</th>\n",
       "      <td>0.889</td>\n",
       "      <td>0.889</td>\n",
       "      <td>0.8</td>\n",
       "      <td>1.00</td>\n",
       "      <td>0.833</td>\n",
       "    </tr>\n",
       "    <tr>\n",
       "      <th>KNN</th>\n",
       "      <td>0.847</td>\n",
       "      <td>0.889</td>\n",
       "      <td>0.8</td>\n",
       "      <td>1.00</td>\n",
       "      <td>0.833</td>\n",
       "    </tr>\n",
       "    <tr>\n",
       "      <th>Decision Tree</th>\n",
       "      <td>0.792</td>\n",
       "      <td>0.818</td>\n",
       "      <td>0.9</td>\n",
       "      <td>0.75</td>\n",
       "      <td>0.778</td>\n",
       "    </tr>\n",
       "  </tbody>\n",
       "</table>\n",
       "</div>"
      ],
      "text/plain": [
       "                       AUC  F1-Score  Precision  Recall  Accuracy\n",
       "SVM                  0.958     0.889        0.8    1.00     0.833\n",
       "Logistic Regression  0.889     0.889        0.8    1.00     0.833\n",
       "KNN                  0.847     0.889        0.8    1.00     0.833\n",
       "Decision Tree        0.792     0.818        0.9    0.75     0.778"
      ]
     },
     "execution_count": 30,
     "metadata": {},
     "output_type": "execute_result"
    }
   ],
   "source": [
    "data = {'AUC': [glm_auc, svm_auc, tree_auc, knn_auc], 'F1-Score': [glm_f1, svm_f1, tree_f1, knn_f1], \n",
    "        'Precision': [glm_prec, svm_prec, tree_prec, knn_prec], 'Recall': [glm_rec, svm_rec, tree_rec, knn_rec],\n",
    "        'Accuracy': [glm_acc, svm_acc, tree_acc, knn_acc]}\n",
    "res = pd.DataFrame(data, index=['Logistic Regression', 'SVM', 'Decision Tree', 'KNN']).sort_values(by=['AUC'], ascending=False)\n",
    "res.round(3)"
   ]
  },
  {
   "cell_type": "code",
   "execution_count": 31,
   "id": "2916affa",
   "metadata": {
    "execution": {
     "iopub.execute_input": "2021-11-20T23:01:55.307296Z",
     "iopub.status.busy": "2021-11-20T23:01:55.306670Z",
     "iopub.status.idle": "2021-11-20T23:01:55.549764Z",
     "shell.execute_reply": "2021-11-20T23:01:55.550268Z",
     "shell.execute_reply.started": "2021-11-20T22:58:09.755346Z"
    },
    "papermill": {
     "duration": 0.309448,
     "end_time": "2021-11-20T23:01:55.550438",
     "exception": false,
     "start_time": "2021-11-20T23:01:55.240990",
     "status": "completed"
    },
    "tags": []
   },
   "outputs": [
    {
     "data": {
      "image/png": "[encoded data removed]",
      "text/plain": [
       "<Figure size 864x576 with 1 Axes>"
      ]
     },
     "metadata": {
      "needs_background": "light"
     },
     "output_type": "display_data"
    }
   ],
   "source": [
    "plt.figure(figsize=(12,8))\n",
    "ax=sns.barplot(x=res.index, y='Accuracy', data=res, palette='Blues_d')\n",
    "sns.despine(top=True, right=True, left=False, bottom=False)\n",
    "plt.xlabel('Model', fontsize=20)\n",
    "plt.ylabel('Accuracy', fontsize=20)\n",
    "ax.yaxis.set_major_formatter(plt.FuncFormatter(lambda x, _: '{:.0f}%'.format(x*100)))\n",
    "for p in ax.patches:\n",
    "    ax.annotate('{:.1f}%'.format(p.get_height()*100), (p.get_x()+0.4, p.get_height()), \n",
    "                ha='center', va='bottom',color= 'black')\n",
    "plt.title('Model Accuracy on the Test Set', fontsize=20)\n",
    "plt.show()"
   ]
  },
  {
   "cell_type": "code",
   "execution_count": 32,
   "id": "dee88d62",
   "metadata": {
    "execution": {
     "iopub.execute_input": "2021-11-20T23:01:55.679910Z",
     "iopub.status.busy": "2021-11-20T23:01:55.679268Z",
     "iopub.status.idle": "2021-11-20T23:01:56.040684Z",
     "shell.execute_reply": "2021-11-20T23:01:56.040070Z",
     "shell.execute_reply.started": "2021-11-20T22:58:10.025389Z"
    },
    "papermill": {
     "duration": 0.426981,
     "end_time": "2021-11-20T23:01:56.040845",
     "exception": false,
     "start_time": "2021-11-20T23:01:55.613864",
     "status": "completed"
    },
    "tags": []
   },
   "outputs": [
    {
     "data": {
      "image/png": "[encoded data removed]",
      "text/plain": [
       "<Figure size 864x576 with 1 Axes>"
      ]
     },
     "metadata": {
      "needs_background": "light"
     },
     "output_type": "display_data"
    }
   ],
   "source": [
    "plt.figure(figsize=(12,8))\n",
    "ax=sns.barplot(x=res.index, y='AUC', data=res, palette='Blues_d')\n",
    "sns.despine(top=True, right=True, left=False, bottom=False)\n",
    "plt.xlabel('Model', fontsize=20)\n",
    "plt.ylabel('Area Under the Curve', fontsize=20)\n",
    "for p in ax.patches:\n",
    "    ax.annotate('{:.3f}'.format(p.get_height()), (p.get_x()+0.4, p.get_height()), \n",
    "                ha='center', va='bottom',color='black')\n",
    "plt.title('Test Set Area Under the Curve', fontsize=20)\n",
    "plt.show()"
   ]
  },
  {
   "cell_type": "markdown",
   "id": "1d36dc14",
   "metadata": {
    "papermill": {
     "duration": 0.06509,
     "end_time": "2021-11-20T23:01:56.170096",
     "exception": false,
     "start_time": "2021-11-20T23:01:56.105006",
     "status": "completed"
    },
    "tags": []
   },
   "source": [
    "The SVM, KNN, and Logistic Regression model achieved the highest accuracy at 83.3%, while the SVM performs the best in terms of Area Under the Curve at 0.958."
   ]
  },
  {
   "cell_type": "markdown",
   "id": "ae75c2d5",
   "metadata": {
    "papermill": {
     "duration": 0.064084,
     "end_time": "2021-11-20T23:01:56.298669",
     "exception": false,
     "start_time": "2021-11-20T23:01:56.234585",
     "status": "completed"
    },
    "tags": []
   },
   "source": [
    "Copyright © 2020 IBM Corporation. All rights reserved.\n"
   ]
  }
 ],
 "metadata": {
  "kernelspec": {
   "display_name": "Python 3",
   "language": "python",
   "name": "python3"
  },
  "language_info": {
   "codemirror_mode": {
    "name": "ipython",
    "version": 3
   },
   "file_extension": ".py",
   "mimetype": "text/x-python",
   "name": "python",
   "nbconvert_exporter": "python",
   "pygments_lexer": "ipython3",
   "version": "3.7.10"
  },
  "papermill": {
   "default_parameters": {},
   "duration": 46.879809,
   "end_time": "2021-11-20T23:01:57.073774",
   "environment_variables": {},
   "exception": null,
   "input_path": "__notebook__.ipynb",
   "output_path": "__notebook__.ipynb",
   "parameters": {},
   "start_time": "2021-11-20T23:01:10.193965",
   "version": "2.3.3"
  }
 },
 "nbformat": 4,
 "nbformat_minor": 5
}
